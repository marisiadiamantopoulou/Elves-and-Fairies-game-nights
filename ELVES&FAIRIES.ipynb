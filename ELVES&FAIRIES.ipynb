{
 "cells": [
  {
   "cell_type": "markdown",
   "metadata": {},
   "source": [
    "# Introduction\n",
    "\n",
    "We just opened a comic shop, 'Aurora Comics and Games'. The store also offers board game nights for local board gamers. They love to play their favorite RPG, \"Elves and Fairies!\" and will gladly pay to secure the space to do so. Game night planning is essential. If we choose the wrong night, not enough people will come and the game night will be cancelled. We decide it's best to automate the game night selector to get more people through the door. First we need to create a list of people who will be attending the game night.\n",
    "\n",
    "We create an empty list called `gamers`. This will be our list of people who are attending game night.\n",
    "\n",
    "Next, we want to create a function that will update this list and add a new gamer to the this `gamers` list. Each `gamer` should be a dictionary with the following keys:\n",
    " - `\"name\"`: a string that contains the gamer's full name. E.g., \"Vicky Eksarxou\"\n",
    " - `\"availability\"`: a list of strings containing the names of the days of the week that the gamer is available. E.g., [\"Monday\", \"Thursday\", \"Sunday\"]\n",
    " \n",
    "So we create a function called `add_gamer` that takes two parameters: `gamer` and `gamers_list`. The function checks that the argument passed to the `gamer` parameter has both `\"name\"` and a `\"availability\"` as keys, and if so add `gamer` to `gamers_list`."
   ]
  },
  {
   "cell_type": "code",
   "execution_count": 83,
   "metadata": {},
   "outputs": [],
   "source": [
    "gamers = []\n",
    "\n",
    "def add_gamer(gamer, gamers_list):\n",
    "    if gamer.get(\"name\") and gamer.get(\"availability\"):\n",
    "        gamers_list.append(gamer)\n",
    "    else:\n",
    "        print('Missing information')"
   ]
  },
  {
   "cell_type": "markdown",
   "metadata": {},
   "source": [
    "Next we want to add our first gamer, which name is Ravenna Alani and she's available on Mondays, Tuesdays, and Fridays.\n",
    "\n",
    "We create a dictionary called `ravenna` with the name and availability given above.\n",
    "Then, we call `add_gamer` with `ravenna` as the first argument and `gamers` as the second and then we **add a couple more gamers to the list**."
   ]
  },
  {
   "cell_type": "code",
   "execution_count": 84,
   "metadata": {},
   "outputs": [
    {
     "name": "stdout",
     "output_type": "stream",
     "text": [
      "[{'name': 'Ravenna Alani', 'availability': ['Monday', 'Tuesday', 'Friday']}, {'name': 'Rosita Malena', 'availability': ['Tuesday', 'Thursday', 'Saturday']}, {'name': 'Krystian Rein', 'availability': ['Monday', 'Wednesday', 'Friday', 'Saturday']}, {'name': 'Marilyn Nicol', 'availability': ['Wednesday', 'Thursday', 'Sunday']}, {'name': 'Mary Ann', 'availability': ['Thursday', 'Saturday']}, {'name': 'Marcelina Bellamy', 'availability': ['Monday', 'Thursday']}, {'name': 'Jude Vassilis', 'availability': ['Monday', 'Sunday']}, {'name': 'Stefanos Samuel', 'availability': ['Thursday', 'Friday', 'Saturday']}, {'name': 'Dean Cándido', 'availability': ['Tuesday', 'Wednesday', 'Thursday', 'Sunday']}, {'name': 'Panagiota Gwenda', 'availability': ['Monday', 'Tuesday', 'Wednesday']}]\n"
     ]
    }
   ],
   "source": [
    "ravenna = {\n",
    "    'name': \"Ravenna Alani\" ,\n",
    "    'availability': ['Monday', 'Tuesday', 'Friday']\n",
    "}\n",
    "add_gamer(ravenna, gamers)\n",
    "\n",
    "\n",
    "add_gamer({'name':'Rosita Malena','availability': [\"Tuesday\", \"Thursday\", \"Saturday\"]}, gamers)\n",
    "add_gamer({'name':'Krystian Rein','availability': [\"Monday\", \"Wednesday\", \"Friday\", \"Saturday\"]}, gamers)\n",
    "add_gamer({'name':'Marilyn Nicol','availability': [\"Wednesday\", \"Thursday\", \"Sunday\"]}, gamers)\n",
    "add_gamer({'name':'Mary Ann','availability': [\"Thursday\", \"Saturday\"]}, gamers)\n",
    "add_gamer({'name':'Marcelina Bellamy', 'availability': [\"Monday\", \"Thursday\"]}, gamers)\n",
    "add_gamer({'name':'Jude Vassilis','availability': [\"Monday\", \"Sunday\"]}, gamers)\n",
    "add_gamer({'name':'Stefanos Samuel','availability': [\"Thursday\", \"Friday\", \"Saturday\"]}, gamers)\n",
    "add_gamer({'name':'Dean Cándido','availability': [\"Tuesday\", \"Wednesday\", \"Thursday\", \"Sunday\"]}, gamers)\n",
    "add_gamer({'name':'Panagiota Gwenda','availability': [\"Monday\", \"Tuesday\", \"Wednesday\"]}, gamers)\n",
    "print(gamers)"
   ]
  },
  {
   "cell_type": "markdown",
   "metadata": {},
   "source": [
    "## Finding the perfect availability\n",
    "\n",
    "Now that we have a list of all of the people interested in game night, we want to be able to calculate which nights would have the most participation. First we need to create a frequency table which correlates each day of the week with gamer availability.\n",
    "\n",
    "We create a function called `build_daily_frequency_table` that takes no argument returns a dictionary with the days of the week as keys and `0`s for values. We'll be using this to **count the availability** per night. "
   ]
  },
  {
   "cell_type": "code",
   "execution_count": 85,
   "metadata": {},
   "outputs": [],
   "source": [
    "def build_daily_frequency_table():\n",
    "    return {\n",
    "        \"Monday\":    0,\n",
    "        \"Tuesday\":   0,\n",
    "        \"Wednesday\": 0,\n",
    "        \"Thursday\":  0,\n",
    "        \"Friday\":    0,\n",
    "        \"Saturday\":  0,\n",
    "        \"Sunday\":    0,\n",
    "    }\n",
    "count_availability = build_daily_frequency_table()\n"
   ]
  },
  {
   "cell_type": "markdown",
   "metadata": {},
   "source": [
    "Next we need to count the number of people every night.\n",
    "\n",
    "The function called `count_night_availability` takes a list of gamers as an argument `gamers_list` and a frequency table `availability_table`. \n",
    "\n",
    "The function iterate through each gamer in `gamers_list` and iterate through each day in the gamer's availability. For each day in the gamer's availability, we add one to that date on the frequency table.\n",
    "\n",
    "Now we use these tools to find the best night to run 'Elves and Fairies'"
   ]
  },
  {
   "cell_type": "code",
   "execution_count": 86,
   "metadata": {},
   "outputs": [
    {
     "name": "stdout",
     "output_type": "stream",
     "text": [
      "Monday: 5 gamers available\n",
      "Tuesday: 4 gamers available\n",
      "Wednesday: 4 gamers available\n",
      "Thursday: 6 gamers available\n",
      "Friday: 3 gamers available\n",
      "Saturday: 4 gamers available\n",
      "Sunday: 3 gamers available\n"
     ]
    }
   ],
   "source": [
    "def count_night_availability(gamers_list, availability_table):\n",
    "    for gamer in gamers_list:\n",
    "        for day in gamer['availability']:\n",
    "            availability_table[day] += 1\n",
    "\n",
    "# Initialize the availability table\n",
    "count_availability = build_daily_frequency_table()\n",
    "\n",
    "# Call the function to count availability\n",
    "count_night_availability(gamers, count_availability)\n",
    "\n",
    "# Print the availability counts for each night\n",
    "for day, count in count_availability.items():\n",
    "    print(f\"{day}: {count} gamers available\")\n"
   ]
  },
  {
   "cell_type": "markdown",
   "metadata": {},
   "source": [
    "To find the best night for game night with the most people in attendance, we can create a function that takes the `count_availability` table as input and returns the night with the highest attendance. Here's how we can do it:\n",
    "\n",
    "In this code:\n",
    "\n",
    "- We define a function called `find_best_night` that takes the `availability_table` as an argument.\n",
    "- We initialize variables `best_night` to `None` and `max_attendance` to a `negative value`. These variables will keep track of the best night and the maximum attendance count.\n",
    "- We iterate through the `availability_table` and compare the count for each night to the current maximum attendance. If we find a night with a higher attendance count, we update `best_night` and `max_attendance` accordingly.\n",
    "- After the loop, we return `best_night`, which will contain the best night for game night.\n",
    "- We call the `find_best_night` function and then print the result, indicating the best night for game night along with the attendance count.\n",
    "\n",
    "\n",
    "Then we print out `best_night` , and find out that it's **Thursday** with 6 gamers available that night."
   ]
  },
  {
   "cell_type": "code",
   "execution_count": 87,
   "metadata": {},
   "outputs": [
    {
     "name": "stdout",
     "output_type": "stream",
     "text": [
      "The best night for game night is Thursday with 6 gamers available.\n"
     ]
    }
   ],
   "source": [
    "def find_best_night(availability_table):\n",
    "    best_night = None\n",
    "    max_attendance = -1  # Initialize with a negative value\n",
    "\n",
    "    for day, count in availability_table.items():\n",
    "        if count > max_attendance:\n",
    "            max_attendance = count\n",
    "            best_night = day\n",
    "\n",
    "    return best_night\n",
    "\n",
    "# Find the best night\n",
    "best_night = find_best_night(count_availability)\n",
    "\n",
    "if best_night:\n",
    "    print(f\"The best night for game night is {best_night} with {count_availability[best_night]} gamers available.\")\n",
    "else:\n",
    "    print(\"No gamers are available on any night.\")\n"
   ]
  },
  {
   "cell_type": "markdown",
   "metadata": {},
   "source": [
    "We make a list of all of the people who are **available that night**:\n",
    "\n",
    "In this code, we first find the best night using the `find_best_night` function as before. Then, if a best night is found, we create a list called `available_gamers_for_best_night` using a list comprehension. This list comprehension filters the gamers list to include only those gamers who have the best night in their availability. Finally, we print the list of available gamers for the best night."
   ]
  },
  {
   "cell_type": "code",
   "execution_count": 88,
   "metadata": {},
   "outputs": [
    {
     "name": "stdout",
     "output_type": "stream",
     "text": [
      "[{'name': 'Rosita Malena', 'availability': ['Tuesday', 'Thursday', 'Saturday']}, {'name': 'Marilyn Nicol', 'availability': ['Wednesday', 'Thursday', 'Sunday']}, {'name': 'Mary Ann', 'availability': ['Thursday', 'Saturday']}, {'name': 'Marcelina Bellamy', 'availability': ['Monday', 'Thursday']}, {'name': 'Stefanos Samuel', 'availability': ['Thursday', 'Friday', 'Saturday']}, {'name': 'Dean Cándido', 'availability': ['Tuesday', 'Wednesday', 'Thursday', 'Sunday']}]\n"
     ]
    }
   ],
   "source": [
    "def available_gamers_for_best_night(gamers_list, day):\n",
    "    list_of_available_people = []\n",
    "    for gamer in gamers_list:\n",
    "        if day in gamer['availability']:\n",
    "            list_of_available_people.append(gamer)\n",
    "    return list_of_available_people\n",
    "\n",
    "attending_game_night = available_gamers_for_best_night(gamers, best_night)\n",
    "print(attending_game_night)\n",
    "\n"
   ]
  },
  {
   "cell_type": "markdown",
   "metadata": {},
   "source": [
    "## Generating an E-mail for the Participants\n",
    "\n",
    "We need to let the attendees know that the game night is on a night they can attend and we start by creating a form email to send to each of the participants that we'll fill out with data later."
   ]
  },
  {
   "cell_type": "code",
   "execution_count": 90,
   "metadata": {},
   "outputs": [],
   "source": [
    "form_email = \"\"\"\n",
    "Dear {name},\n",
    "The Aurora Comics and Games is happy to host \"{game}\" night and wishes you will attend. Come by on {day_of_week} and have a blast!\n",
    "\n",
    "Magically Yours,\n",
    "the Aurora Comics and Games\"\"\""
   ]
  },
  {
   "cell_type": "markdown",
   "metadata": {},
   "source": [
    "We create a function to send to each attendee the appropriate email. "
   ]
  },
  {
   "cell_type": "code",
   "execution_count": 91,
   "metadata": {},
   "outputs": [
    {
     "name": "stdout",
     "output_type": "stream",
     "text": [
      "\n",
      "Dear Rosita Malena,\n",
      "The Aurora Comics and Games is happy to host \"Elves and Fairies\" night and wishes you will attend. Come by on Thursday and have a blast!\n",
      "\n",
      "Magically Yours,\n",
      "the Aurora Comics and Games\n",
      "\n",
      "Dear Marilyn Nicol,\n",
      "The Aurora Comics and Games is happy to host \"Elves and Fairies\" night and wishes you will attend. Come by on Thursday and have a blast!\n",
      "\n",
      "Magically Yours,\n",
      "the Aurora Comics and Games\n",
      "\n",
      "Dear Mary Ann,\n",
      "The Aurora Comics and Games is happy to host \"Elves and Fairies\" night and wishes you will attend. Come by on Thursday and have a blast!\n",
      "\n",
      "Magically Yours,\n",
      "the Aurora Comics and Games\n",
      "\n",
      "Dear Marcelina Bellamy,\n",
      "The Aurora Comics and Games is happy to host \"Elves and Fairies\" night and wishes you will attend. Come by on Thursday and have a blast!\n",
      "\n",
      "Magically Yours,\n",
      "the Aurora Comics and Games\n",
      "\n",
      "Dear Stefanos Samuel,\n",
      "The Aurora Comics and Games is happy to host \"Elves and Fairies\" night and wishes you will attend. Come by on Thursday and have a blast!\n",
      "\n",
      "Magically Yours,\n",
      "the Aurora Comics and Games\n",
      "\n",
      "Dear Dean Cándido,\n",
      "The Aurora Comics and Games is happy to host \"Elves and Fairies\" night and wishes you will attend. Come by on Thursday and have a blast!\n",
      "\n",
      "Magically Yours,\n",
      "the Aurora Comics and Games\n"
     ]
    }
   ],
   "source": [
    "def send_email(gamers_who_can_attend,  day,  game):\n",
    "    for gamer in gamers_who_can_attend:\n",
    "        print(form_email.format(name = gamer['name'], day_of_week=day , game=game))\n",
    "\n",
    "send_email(attending_game_night, best_night, 'Elves and Fairies')\n",
    "\n"
   ]
  },
  {
   "cell_type": "markdown",
   "metadata": {},
   "source": [
    "For those who cannot attend on the specific night of the game, we find a second alternative night\n"
   ]
  },
  {
   "cell_type": "code",
   "execution_count": 93,
   "metadata": {},
   "outputs": [
    {
     "name": "stdout",
     "output_type": "stream",
     "text": [
      "[{'name': 'Ravenna Alani', 'availability': ['Monday', 'Tuesday', 'Friday']}, {'name': 'Krystian Rein', 'availability': ['Monday', 'Wednesday', 'Friday', 'Saturday']}, {'name': 'Jude Vassilis', 'availability': ['Monday', 'Sunday']}, {'name': 'Panagiota Gwenda', 'availability': ['Monday', 'Tuesday', 'Wednesday']}]\n",
      "Alternative night with the most availability: Monday with 4 gamers available.\n"
     ]
    }
   ],
   "source": [
    "\n",
    "# Create a list of gamers who cannot attend on the best night\n",
    "unable_to_attend_best_night = [gamer for gamer in gamers if best_night not in gamer['availability']]\n",
    "print(unable_to_attend_best_night)\n",
    "\n",
    "# Create a dictionary to store alternative night availability counts\n",
    "alternative_night_counts = build_daily_frequency_table()\n",
    "\n",
    "# Count availability for alternative nights for gamers who cannot attend on the best night\n",
    "count_night_availability(unable_to_attend_best_night, alternative_night_counts)\n",
    "\n",
    "# Find the alternative night with the most availability\n",
    "alternative_night = find_best_night(alternative_night_counts)\n",
    "\n",
    "if alternative_night:\n",
    "            print(f\"Alternative night with the most availability: {alternative_night} with {alternative_night_counts[alternative_night]} gamers available.\")\n",
    "else:\n",
    "            print(\"No alternative nights with availability.\")"
   ]
  },
  {
   "cell_type": "markdown",
   "metadata": {},
   "source": [
    "Let's send out an email to everyone (whether they can attend the first night or\n",
    " not) whose marked themselves as available on our second game night."
   ]
  },
  {
   "cell_type": "code",
   "execution_count": 94,
   "metadata": {},
   "outputs": [
    {
     "name": "stdout",
     "output_type": "stream",
     "text": [
      "\n",
      "Dear Ravenna Alani,\n",
      "The Aurora Comics and Games is happy to host \"Elves and Fairies!\" night and wishes you will attend. Come by on Monday and have a blast!\n",
      "\n",
      "Magically Yours,\n",
      "the Aurora Comics and Games\n",
      "\n",
      "Dear Krystian Rein,\n",
      "The Aurora Comics and Games is happy to host \"Elves and Fairies!\" night and wishes you will attend. Come by on Monday and have a blast!\n",
      "\n",
      "Magically Yours,\n",
      "the Aurora Comics and Games\n",
      "\n",
      "Dear Marcelina Bellamy,\n",
      "The Aurora Comics and Games is happy to host \"Elves and Fairies!\" night and wishes you will attend. Come by on Monday and have a blast!\n",
      "\n",
      "Magically Yours,\n",
      "the Aurora Comics and Games\n",
      "\n",
      "Dear Jude Vassilis,\n",
      "The Aurora Comics and Games is happy to host \"Elves and Fairies!\" night and wishes you will attend. Come by on Monday and have a blast!\n",
      "\n",
      "Magically Yours,\n",
      "the Aurora Comics and Games\n",
      "\n",
      "Dear Panagiota Gwenda,\n",
      "The Aurora Comics and Games is happy to host \"Elves and Fairies!\" night and wishes you will attend. Come by on Monday and have a blast!\n",
      "\n",
      "Magically Yours,\n",
      "the Aurora Comics and Games\n"
     ]
    }
   ],
   "source": [
    "available_second_game_night = available_gamers_for_best_night(gamers, alternative_night)\n",
    "send_email(available_second_game_night, alternative_night, \"Elves and Fairies!\")\n"
   ]
  }
 ],
 "metadata": {
  "kernelspec": {
   "display_name": "base",
   "language": "python",
   "name": "python3"
  },
  "language_info": {
   "codemirror_mode": {
    "name": "ipython",
    "version": 3
   },
   "file_extension": ".py",
   "mimetype": "text/x-python",
   "name": "python",
   "nbconvert_exporter": "python",
   "pygments_lexer": "ipython3",
   "version": "3.9.13"
  },
  "orig_nbformat": 4
 },
 "nbformat": 4,
 "nbformat_minor": 2
}
